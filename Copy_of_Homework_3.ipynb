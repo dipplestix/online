{
  "nbformat": 4,
  "nbformat_minor": 0,
  "metadata": {
    "colab": {
      "name": "Copy of Homework 3.ipynb",
      "provenance": [],
      "collapsed_sections": [],
      "toc_visible": true,
      "include_colab_link": true
    },
    "kernelspec": {
      "name": "python3",
      "display_name": "Python 3"
    }
  },
  "cells": [
    {
      "cell_type": "markdown",
      "metadata": {
        "id": "view-in-github",
        "colab_type": "text"
      },
      "source": [
        "<a href=\"https://colab.research.google.com/github/dipplestix/online/blob/master/Copy_of_Homework_3.ipynb\" target=\"_parent\"><img src=\"https://colab.research.google.com/assets/colab-badge.svg\" alt=\"Open In Colab\"/></a>"
      ]
    },
    {
      "cell_type": "markdown",
      "metadata": {
        "id": "owQ_FPfHEIOY"
      },
      "source": [
        "# Problem Set 3\n",
        "In this problem set you will get some practice with gradient descent and sub-gradient descent. There is a template for setting up your code and plotting your results at the end of this notebook, which you may find useful. Note that it is only a suggestion -- you are not required to use it."
      ]
    },
    {
      "cell_type": "markdown",
      "metadata": {
        "id": "fY6Ysm1TELWc"
      },
      "source": [
        "## Problem 1: Gradient Descent\n",
        "Consider three quadratics, as given by:\n",
        "$$\n",
        "f_i(x) = \\frac{1}{2} x^{\\top}Q_ix + q_i^{\\top} x + c_i,\n",
        "$$\n",
        "for the three triples $(Q_i,q_i,c_i)$, $i=1,2,3$ given below."
      ]
    },
    {
      "cell_type": "code",
      "metadata": {
        "id": "UqMCBxayEMT4"
      },
      "source": [
        "import numpy as np\n",
        "Q1 = np.array([[ 1.17091573, -0.03686123, -0.1001259 ],\n",
        "       [-0.03686123,  1.03835691,  0.17285956],\n",
        "       [-0.1001259 ,  0.17285956,  1.06072736]])\n",
        "Q2 = np.array([[ 15.27095759,  -1.97915834, -14.22190153],\n",
        "       [ -1.97915834,   0.34660759,   1.91586927],\n",
        "       [-14.22190153,   1.91586927,  15.76943482]])\n",
        "Q3 = np.array([[28.59657006,  0.3684004 ,  0.90750259],\n",
        "       [ 0.3684004 , 28.11480924,  0.81866989],\n",
        "       [ 0.90750259,  0.81866989, 28.7886207 ]])\n",
        "q1 = np.array([-4.68686663, -0.89027884, -1.57340281])\n",
        "q2 = np.array([ 6.75973216,  1.23223936, -0.87956749])\n",
        "q3 = np.array([ 0.8684369 , -4.69970837, -1.09690726])\n",
        "c1 = 1.61888566;\n",
        "c2 = -2.66426693;\n",
        "c3 = 0.84184738;\n"
      ],
      "execution_count": 16,
      "outputs": []
    },
    {
      "cell_type": "markdown",
      "metadata": {
        "id": "b4pg_ZIgESeA"
      },
      "source": [
        "### Part (A)\n",
        "Implement gradient descent with a step-size of $0.1$ for all three quadratics, and plot function value versus iteration number. Explain what you see."
      ]
    },
    {
      "cell_type": "markdown",
      "metadata": {
        "id": "BwC2qLwUVPwj"
      },
      "source": [
        "The solutions here incorporate the graphs for part B and D as well. Text responses will be in the corresponding sections though"
      ]
    },
    {
      "cell_type": "code",
      "metadata": {
        "id": "ZANqwCTxzytB"
      },
      "source": [
        "import numpy as np\r\n",
        "import matplotlib.pyplot as plt\r\n",
        "\r\n",
        "class GradDesc:\r\n",
        "    def __init__(self, Q, q, c, eta, btls=False):\r\n",
        "        self.x = np.full(len(q), 0.0)\r\n",
        "        self.Q = Q\r\n",
        "        self.q = q\r\n",
        "        self.c = c\r\n",
        "        self.eta = eta\r\n",
        "        self.values = [self.get_value()]\r\n",
        "        self.btls = btls\r\n",
        "        self.alpha = .499\r\n",
        "\r\n",
        "    def get_value(self, x=None):\r\n",
        "        if x is None:\r\n",
        "            return .5*np.matmul(np.matmul(np.transpose(self.x), self.Q), self.x) + np.matmul(np.transpose(self.q), self.x) + self.c\r\n",
        "        else:\r\n",
        "            return .5*np.matmul(np.matmul(np.transpose(x), self.Q), x) + np.matmul(np.transpose(self.q), x) + self.c\r\n",
        "\r\n",
        "\r\n",
        "    def get_grad(self):\r\n",
        "        return np.matmul(self.Q, self.x) + self.q\r\n",
        "\r\n",
        "    def step(self):\r\n",
        "        if self.btls is False:\r\n",
        "            self.x = self.x - self.eta*self.get_grad()\r\n",
        "        else:\r\n",
        "            step = 10\r\n",
        "            par = self.get_grad()\r\n",
        "            x = self.x - step*par\r\n",
        "            while(self.get_value(x)) > self.get_value() - self.alpha*step*np.matmul(np.transpose(par), par):\r\n",
        "                step *= .95\r\n",
        "                x = self.x - step*par\r\n",
        "            self.x = self.x - step*par\r\n",
        "        self.values.append(self.get_value())\r\n"
      ],
      "execution_count": 17,
      "outputs": []
    },
    {
      "cell_type": "code",
      "metadata": {
        "colab": {
          "base_uri": "https://localhost:8080/",
          "height": 284
        },
        "id": "i0RDqSlxJrZH",
        "outputId": "7620226e-9469-40d4-afd2-df56526c0b36"
      },
      "source": [
        "a = GradDesc(Q1, q1, c1, .1)\r\n",
        "e1 = 1/max(np.linalg.eig(Q1)[0])\r\n",
        "b = GradDesc(Q1, q1, c1, e1)\r\n",
        "c = GradDesc(Q1, q1, c1, e1, btls=True)\r\n",
        "for _ in range(50):\r\n",
        "    a.step()\r\n",
        "    b.step()\r\n",
        "    c.step()\r\n",
        "plt.plot(a.values)\r\n",
        "plt.plot(b.values)\r\n",
        "plt.plot(c.values)\r\n",
        "plt.legend(['step=.1', 'step=1/beta', 'btls'])"
      ],
      "execution_count": 18,
      "outputs": [
        {
          "output_type": "execute_result",
          "data": {
            "text/plain": [
              "<matplotlib.legend.Legend at 0x7fc8b54a2908>"
            ]
          },
          "metadata": {
            "tags": []
          },
          "execution_count": 18
        },
        {
          "output_type": "display_data",
          "data": {
            "image/png": "[encoded data removed]",
            "text/plain": [
              "<Figure size 432x288 with 1 Axes>"
            ]
          },
          "metadata": {
            "tags": [],
            "needs_background": "light"
          }
        }
      ]
    },
    {
      "cell_type": "code",
      "metadata": {
        "colab": {
          "base_uri": "https://localhost:8080/",
          "height": 578
        },
        "id": "6-8-fclmUkIP",
        "outputId": "5add3074-b22b-430b-d226-d50655605cdf"
      },
      "source": [
        "a = GradDesc(Q2, q2, c2, .1)\r\n",
        "e2= 1/max(np.linalg.eig(Q2)[0])\r\n",
        "b = GradDesc(Q2, q2, c2, e2)\r\n",
        "c = GradDesc(Q2, q2, c2, e2, btls=True)\r\n",
        "for _ in range(1000):\r\n",
        "    a.step()\r\n",
        "    b.step()\r\n",
        "    c.step()\r\n",
        "fig1 = plt.figure()\r\n",
        "plt.plot(a.values)\r\n",
        "plt.legend(['step=.1'])\r\n",
        "fig2 = plt.figure()\r\n",
        "plt.plot(b.values)\r\n",
        "plt.plot(c.values)\r\n",
        "plt.legend(['step=1/beta', 'btls'])"
      ],
      "execution_count": 19,
      "outputs": [
        {
          "output_type": "stream",
          "text": [
            "/usr/local/lib/python3.6/dist-packages/ipykernel_launcher.py:17: RuntimeWarning: overflow encountered in matmul\n"
          ],
          "name": "stderr"
        },
        {
          "output_type": "execute_result",
          "data": {
            "text/plain": [
              "<matplotlib.legend.Legend at 0x7fc8b54da898>"
            ]
          },
          "metadata": {
            "tags": []
          },
          "execution_count": 19
        },
        {
          "output_type": "stream",
          "text": [
            "/usr/local/lib/python3.6/dist-packages/matplotlib/ticker.py:2161: RuntimeWarning: overflow encountered in multiply\n",
            "  steps = self._extended_steps * scale\n"
          ],
          "name": "stderr"
        },
        {
          "output_type": "display_data",
          "data": {
            "image/png": "[encoded data removed]",
            "text/plain": [
              "<Figure size 432x288 with 1 Axes>"
            ]
          },
          "metadata": {
            "tags": [],
            "needs_background": "light"
          }
        },
        {
          "output_type": "display_data",
          "data": {
            "image/png": "[encoded data removed]",
            "text/plain": [
              "<Figure size 432x288 with 1 Axes>"
            ]
          },
          "metadata": {
            "tags": [],
            "needs_background": "light"
          }
        }
      ]
    },
    {
      "cell_type": "code",
      "metadata": {
        "colab": {
          "base_uri": "https://localhost:8080/",
          "height": 531
        },
        "id": "y6gyqeziVG8S",
        "outputId": "f676c6a2-e629-473c-9f6b-e5490fea177a"
      },
      "source": [
        "a = GradDesc(Q3, q3, c3, .1)\r\n",
        "e3= 1/max(np.linalg.eig(Q3)[0])\r\n",
        "b = GradDesc(Q3, q3, c3, e3)\r\n",
        "c = GradDesc(Q3, q3, c3, e3, btls=True)\r\n",
        "for _ in range(10):\r\n",
        "    a.step()\r\n",
        "    b.step()\r\n",
        "    c.step()\r\n",
        "fig1 = plt.figure()\r\n",
        "plt.plot(a.values)\r\n",
        "plt.legend(['step=.1'])\r\n",
        "fig2 = plt.figure()\r\n",
        "plt.plot(b.values)\r\n",
        "plt.plot(c.values)\r\n",
        "plt.legend(['step=1/beta', 'btls'])\r\n",
        "\r\n",
        "# BLTS and eta=1/beta both converge in one step"
      ],
      "execution_count": 20,
      "outputs": [
        {
          "output_type": "execute_result",
          "data": {
            "text/plain": [
              "<matplotlib.legend.Legend at 0x7fc8b5259438>"
            ]
          },
          "metadata": {
            "tags": []
          },
          "execution_count": 20
        },
        {
          "output_type": "display_data",
          "data": {
            "image/png": "[encoded data removed]",
            "text/plain": [
              "<Figure size 432x288 with 1 Axes>"
            ]
          },
          "metadata": {
            "tags": [],
            "needs_background": "light"
          }
        },
        {
          "output_type": "display_data",
          "data": {
            "image/png": "[encoded data removed]",
            "text/plain": [
              "<Figure size 432x288 with 1 Axes>"
            ]
          },
          "metadata": {
            "tags": [],
            "needs_background": "light"
          }
        }
      ]
    },
    {
      "cell_type": "markdown",
      "metadata": {
        "id": "6oNV2Pp-EWKH"
      },
      "source": [
        "### Part (B)\n",
        "Find a step-size for each quadratic (it can be different for each), and implement gradient descent with this stepsize. Plot function value versus iteration number. Try to pick a step size that gives you fast convergence. How did you pick it?"
      ]
    },
    {
      "cell_type": "markdown",
      "metadata": {
        "id": "4rm34XviNVR5"
      },
      "source": [
        "The step size for each quadratic should be selected to be 1/beta, the lipschitz smoothness factor. This is found by taking the maximum eigen value of Q for each\r\n",
        "\r\n"
      ]
    },
    {
      "cell_type": "code",
      "metadata": {
        "colab": {
          "base_uri": "https://localhost:8080/",
          "height": 0
        },
        "id": "OVnUbbF5NUi_",
        "outputId": "ed519bdc-ad5e-4444-fbcc-8fa6eeff805e"
      },
      "source": [
        "print([e1, e2, e3])"
      ],
      "execution_count": 21,
      "outputs": [
        {
          "output_type": "stream",
          "text": [
            "[0.7692307699562937, 0.03333333333469096, 0.03333333333500338]\n"
          ],
          "name": "stdout"
        }
      ]
    },
    {
      "cell_type": "markdown",
      "metadata": {
        "id": "rXGLnr8zEYKu"
      },
      "source": [
        "### Part (C)\n",
        "Even with your carefully tuned choice of step size, you will see that the rates of convergence are not the same, Explain why this is the case."
      ]
    },
    {
      "cell_type": "markdown",
      "metadata": {
        "id": "ovH7MQFjNse0"
      },
      "source": [
        "The more strongly convex a function is, the faster the GD will converge. The smallest eigenvalue of each Q is how strongly convex it is (and Q3 is much more convex than the other two). The distance between the initial conditions and the optimal solution can also impact speed of convergence"
      ]
    },
    {
      "cell_type": "code",
      "metadata": {
        "colab": {
          "base_uri": "https://localhost:8080/",
          "height": 0
        },
        "id": "z7w4EwORN8Qt",
        "outputId": "1f1334ec-8b7a-4b1a-b4fa-3fcc16846d6e"
      },
      "source": [
        "a1= min(np.linalg.eig(Q1)[0])\r\n",
        "a2= min(np.linalg.eig(Q2)[0])\r\n",
        "a3= min(np.linalg.eig(Q3)[0])\r\n",
        "print([a1, a2, a3])"
      ],
      "execution_count": 24,
      "outputs": [
        {
          "output_type": "stream",
          "text": [
            "[0.870000001582961, 0.08700000145750277, 27.499999998702602]\n"
          ],
          "name": "stdout"
        }
      ]
    },
    {
      "cell_type": "markdown",
      "metadata": {
        "id": "m1iEjab2EclQ"
      },
      "source": [
        "### Part (D) -- Optional -- \n",
        "Read about back tracking line search (BTLS) and implement it here. "
      ]
    },
    {
      "cell_type": "markdown",
      "metadata": {
        "id": "swx7RlKyNqKb"
      },
      "source": [
        "See implementation above"
      ]
    },
    {
      "cell_type": "markdown",
      "metadata": {
        "id": "Nh1qRKIlElT_"
      },
      "source": [
        "## Problem 2: Sub-gradient Method\n",
        "Consider a least squares problem with $\\ell^1$ regularization:\n",
        "$$\n",
        "\\min_x \\left[f(x) = \\frac{1}{2}\\|{Ax-b}\\|_2^2 + \\lambda \\|{x}\\|_1 \\right]\n",
        "$$\n",
        "\n",
        "This problem is often called LASSO (least absolute shrinkage and selection operator) and is known to induce {\\em sparse} solutions with few nonzero elements in $x$, which can have advantages in terms of computation and interpretability. This problem is nonsmooth due to the regularization term. It is also not strongly convex when $A$ has more columns than rows. We (i.e., you) will solve this problem using several different algorithms in this class. We start with what we have seen thus far: the subgradient method. \n",
        "\n",
        "The dataset represented in the matrices provided in the numpy binary files A.npy and b.npy are from a diabetes dataset (scikit-learn.org/stable/modules/generated/sklearn.datasets.load_diabetes.html) with 10 features that has been corrupted with an additional 90 noisy features. Thus a sparse solution should be very effective. Below you will find some skeleton code to help with loading the data, running the algorithm and plotting the results. Don't use stock optimization code, you should develop the core part of this assignment yourself."
      ]
    },
    {
      "cell_type": "markdown",
      "metadata": {
        "id": "vlwKNrNcEp7F"
      },
      "source": [
        "Minimize $f(x)$ using $10^4$ iterations of the subgradient method starting with $t=0$ and $x_0 =0$. \n",
        "\n",
        "### Part (A)\n",
        "Use a decreasing step size of $\\eta_t = c/t$ with values for $c$ that (roughly) optimize the empirical performance. Separately record the (unsquared) error $\\|Ax_t-b\\|$ and the regularization term $\\|x\\|_1$.\n",
        "\n",
        "### Part (B) \n",
        "Now use a more slowly decreasing step size of $\\eta_t = c/\\sqrt{t+1}$ with values for $c$ that (roughly) optimize the empirical performance. Separately record the (unsquared) error $\\|Ax_t-b\\|$ and the regularization term $\\|x\\|_1$.\n",
        "\n",
        "### Part (C)\n",
        "Now try to find the best fixed step size. Plot the results and compare to the decreasing step size you see above. \n",
        "\n",
        "### Part (D) -- Optional --\n",
        "If you did the BTLS optional part above, either implement BTLS for subgradient method, or explain why the challenges are with this. \n"
      ]
    },
    {
      "cell_type": "markdown",
      "metadata": {
        "id": "lgEPG09USxT8"
      },
      "source": [
        "Here is a template that may be useful. Note that it is designed for the LASSO problem, so you will have to modify it to use it for the quadratic problems at the beginning, but the ideas are the same."
      ]
    },
    {
      "cell_type": "code",
      "metadata": {
        "id": "vU1ReScpEqks",
        "colab": {
          "base_uri": "https://localhost:8080/",
          "height": 585
        },
        "outputId": "3901e0e0-26af-4440-a2a4-642568b3547a"
      },
      "source": [
        "from __future__ import division\n",
        "import numpy as np\n",
        "import numpy.random as rn\n",
        "import numpy.linalg as la\n",
        "import matplotlib.pyplot as plt\n",
        "import time\n",
        "\n",
        "\n",
        "def subgradient(x, A, b, t, lam, c=1e-3):\n",
        "    x -= c/(t+1)*(np.matmul(np.matmul(A.transpose(), A), x) - np.matmul(A.transpose(), b) + lam*np.sign(x))\n",
        "    return x\n",
        "\n",
        "def descent(update, A, b, reg, T=int(1e4), c=1e-4):\n",
        "    x = np.zeros(A.shape[1])\n",
        "    error = []\n",
        "    l1 = []\n",
        "    for t in range(T):\n",
        "        # update A (here subgradient, but you can re-use when we develop other algorithms)\n",
        "        x = update(x, A, b, t, reg, c)\n",
        "        \n",
        "        # record error and l1 norm\n",
        "        if (t % 1 == 0) or (t == T - 1):\n",
        "            error.append(la.norm(np.dot(A, x) - b))\n",
        "            l1.append(np.sum(abs(x)))\n",
        "\n",
        "            assert not np.isnan(error[-1])\n",
        "\n",
        "    return x, error, l1\n",
        "\n",
        "\n",
        "def main(T=int(1e3)):\n",
        "    A = np.load(\"A.npy\")\n",
        "    b = np.load(\"b.npy\")\n",
        "\n",
        "    # modify regularization parameters below\n",
        "    for c in [5e-4]:\n",
        "      #Tried a bunch of values for c, this got the best results in this T\n",
        "      #As you increase reg, you (obviously) decrease the l_1 norm and increase the SSE error.\n",
        "      x_sg, error_sg, l1_sg = descent(subgradient, A, b, reg=4., T=T, c=c)\n",
        "\n",
        "      fig1 = plt.figure()\n",
        "      plt.clf()\n",
        "      plt.plot(error_sg, label='Subgradient')\n",
        "      plt.title('Error')\n",
        "      plt.legend()\n",
        "      plt.plot()\n",
        "      #plt.savefig('error.eps')\n",
        "\n",
        "      fig2 = plt.figure()\n",
        "      plt.clf()\n",
        "      plt.plot(l1_sg, label='Subgradient')\n",
        "      plt.title(\"$\\ell^1$ Norm\")\n",
        "      plt.legend()\n",
        "      plt.savefig('l1.eps')\n",
        "\n",
        "\n",
        "main()"
      ],
      "execution_count": 33,
      "outputs": [
        {
          "output_type": "stream",
          "text": [
            "The PostScript backend does not support transparency; partially transparent artists will be rendered opaque.\n",
            "The PostScript backend does not support transparency; partially transparent artists will be rendered opaque.\n"
          ],
          "name": "stderr"
        },
        {
          "output_type": "display_data",
          "data": {
            "image/png": "[encoded data removed]",
            "text/plain": [
              "<Figure size 432x288 with 1 Axes>"
            ]
          },
          "metadata": {
            "tags": [],
            "needs_background": "light"
          }
        },
        {
          "output_type": "display_data",
          "data": {
            "image/png": "[encoded data removed]",
            "text/plain": [
              "<Figure size 432x288 with 1 Axes>"
            ]
          },
          "metadata": {
            "tags": [],
            "needs_background": "light"
          }
        }
      ]
    },
    {
      "cell_type": "code",
      "metadata": {
        "id": "sc39dfQtefmE",
        "colab": {
          "base_uri": "https://localhost:8080/",
          "height": 585
        },
        "outputId": "10d4e164-fff7-4210-f573-a43ab250a43a"
      },
      "source": [
        "from __future__ import division\r\n",
        "import numpy as np\r\n",
        "import numpy.random as rn\r\n",
        "import numpy.linalg as la\r\n",
        "import matplotlib.pyplot as plt\r\n",
        "import time\r\n",
        "\r\n",
        "\r\n",
        "def subgradient(x, A, b, t, lam, c=1e-3):\r\n",
        "    x -= c/np.sqrt(t+2)*(np.matmul(np.matmul(A.transpose(), A), x) - np.matmul(A.transpose(), b) + lam*np.sign(x))\r\n",
        "    return x\r\n",
        "\r\n",
        "def descent(update, A, b, reg, T=int(1e4), c=1e-4):\r\n",
        "    x = np.zeros(A.shape[1])\r\n",
        "    error = []\r\n",
        "    l1 = []\r\n",
        "    for t in range(T):\r\n",
        "        # update A (here subgradient, but you can re-use when we develop other algorithms)\r\n",
        "        x = update(x, A, b, t, reg, c)\r\n",
        "        \r\n",
        "        # record error and l1 norm\r\n",
        "        if (t % 1 == 0) or (t == T - 1):\r\n",
        "            error.append(la.norm(np.dot(A, x) - b))\r\n",
        "            l1.append(np.sum(abs(x)))\r\n",
        "\r\n",
        "            assert not np.isnan(error[-1])\r\n",
        "\r\n",
        "    return x, error, l1\r\n",
        "\r\n",
        "\r\n",
        "def main(T=int(1e3)):\r\n",
        "    A = np.load(\"A.npy\")\r\n",
        "    b = np.load(\"b.npy\")\r\n",
        "\r\n",
        "    # modify regularization parameters below\r\n",
        "    for c in [5e-4]:\r\n",
        "      #Tried a bunch of values for c, this got the best results in this T\r\n",
        "      #As you increase reg, you (obviously) decrease the l_1 norm and increase the SSE error.\r\n",
        "      x_sg, error_sg, l1_sg = descent(subgradient, A, b, reg=4., T=T, c=c)\r\n",
        "\r\n",
        "      fig1 = plt.figure()\r\n",
        "      plt.clf()\r\n",
        "      plt.plot(error_sg, label='Subgradient')\r\n",
        "      plt.title('Error')\r\n",
        "      plt.legend()\r\n",
        "      plt.plot()\r\n",
        "      #plt.savefig('error.eps')\r\n",
        "\r\n",
        "      fig2 = plt.figure()\r\n",
        "      plt.clf()\r\n",
        "      plt.plot(l1_sg, label='Subgradient')\r\n",
        "      plt.title(\"$\\ell^1$ Norm\")\r\n",
        "      plt.legend()\r\n",
        "      plt.savefig('l1.eps')\r\n",
        "\r\n",
        "\r\n",
        "main()\r\n",
        "\r\n"
      ],
      "execution_count": 36,
      "outputs": [
        {
          "output_type": "stream",
          "text": [
            "The PostScript backend does not support transparency; partially transparent artists will be rendered opaque.\n",
            "The PostScript backend does not support transparency; partially transparent artists will be rendered opaque.\n"
          ],
          "name": "stderr"
        },
        {
          "output_type": "display_data",
          "data": {
            "image/png": "[encoded data removed]",
            "text/plain": [
              "<Figure size 432x288 with 1 Axes>"
            ]
          },
          "metadata": {
            "tags": [],
            "needs_background": "light"
          }
        },
        {
          "output_type": "display_data",
          "data": {
            "image/png": "[encoded data removed]",
            "text/plain": [
              "<Figure size 432x288 with 1 Axes>"
            ]
          },
          "metadata": {
            "tags": [],
            "needs_background": "light"
          }
        }
      ]
    },
    {
      "cell_type": "markdown",
      "metadata": {
        "id": "B7VhdPk1TtUP"
      },
      "source": [
        "Having a slower decreasing step size increases the speed of convergence (since it has larger steps at the beginning) and still nicely converges."
      ]
    },
    {
      "cell_type": "code",
      "metadata": {
        "id": "6EAgMn22l-AG",
        "colab": {
          "base_uri": "https://localhost:8080/",
          "height": 585
        },
        "outputId": "09459a71-421f-4ab1-fa73-9d8358195152"
      },
      "source": [
        "from __future__ import division\r\n",
        "import numpy as np\r\n",
        "import numpy.random as rn\r\n",
        "import numpy.linalg as la\r\n",
        "import matplotlib.pyplot as plt\r\n",
        "import time\r\n",
        "\r\n",
        "\r\n",
        "def subgradient(x, A, b, t, lam, c=1e-3):\r\n",
        "    x -= c*(np.matmul(np.matmul(A.transpose(), A), x) - np.matmul(A.transpose(), b) + lam*np.sign(x))\r\n",
        "    return x\r\n",
        "\r\n",
        "def descent(update, A, b, reg, T=int(1e4), c=1e-4):\r\n",
        "    x = np.zeros(A.shape[1])\r\n",
        "    error = []\r\n",
        "    l1 = []\r\n",
        "    for t in range(T):\r\n",
        "        # update A (here subgradient, but you can re-use when we develop other algorithms)\r\n",
        "        x = update(x, A, b, t, reg, c)\r\n",
        "        \r\n",
        "        # record error and l1 norm\r\n",
        "        if (t % 1 == 0) or (t == T - 1):\r\n",
        "            error.append(la.norm(np.dot(A, x) - b))\r\n",
        "            l1.append(np.sum(abs(x)))\r\n",
        "\r\n",
        "            assert not np.isnan(error[-1])\r\n",
        "\r\n",
        "    return x, error, l1\r\n",
        "\r\n",
        "\r\n",
        "def main(T=int(1e3)):\r\n",
        "    A = np.load(\"A.npy\")\r\n",
        "    b = np.load(\"b.npy\")\r\n",
        "\r\n",
        "    # modify regularization parameters below\r\n",
        "    for c in [1e-4]:\r\n",
        "      #Tried a bunch of values for c, this got the best results in this T\r\n",
        "      #As you increase reg, you (obviously) decrease the l_1 norm and increase the SSE error.\r\n",
        "      x_sg, error_sg, l1_sg = descent(subgradient, A, b, reg=4., T=T, c=c)\r\n",
        "\r\n",
        "      fig1 = plt.figure()\r\n",
        "      plt.clf()\r\n",
        "      plt.plot(error_sg, label='Subgradient')\r\n",
        "      plt.title('Error')\r\n",
        "      plt.legend()\r\n",
        "      plt.plot()\r\n",
        "      #plt.savefig('error.eps')\r\n",
        "\r\n",
        "      fig2 = plt.figure()\r\n",
        "      plt.clf()\r\n",
        "      plt.plot(l1_sg, label='Subgradient')\r\n",
        "      plt.title(\"$\\ell^1$ Norm\")\r\n",
        "      plt.legend()\r\n",
        "      plt.savefig('l1.eps')\r\n",
        "\r\n",
        "\r\n",
        "main()"
      ],
      "execution_count": 39,
      "outputs": [
        {
          "output_type": "stream",
          "text": [
            "The PostScript backend does not support transparency; partially transparent artists will be rendered opaque.\n",
            "The PostScript backend does not support transparency; partially transparent artists will be rendered opaque.\n"
          ],
          "name": "stderr"
        },
        {
          "output_type": "display_data",
          "data": {
            "image/png": "[encoded data removed]",
            "text/plain": [
              "<Figure size 432x288 with 1 Axes>"
            ]
          },
          "metadata": {
            "tags": [],
            "needs_background": "light"
          }
        },
        {
          "output_type": "display_data",
          "data": {
            "image/png": "[encoded data removed]",
            "text/plain": [
              "<Figure size 432x288 with 1 Axes>"
            ]
          },
          "metadata": {
            "tags": [],
            "needs_background": "light"
          }
        }
      ]
    },
    {
      "cell_type": "markdown",
      "metadata": {
        "id": "vXpafa76UPa7"
      },
      "source": [
        "Converges to close to optimal faster, but without a decreasing step size, it settles at a bit higher of an overall value for the function."
      ]
    },
    {
      "cell_type": "markdown",
      "metadata": {
        "id": "POR8e5KlOywF"
      },
      "source": [
        "Part D\r\n",
        "\r\n",
        "Since the subgradient is not necessarily a direction of descent, we don't get a guarantee about how the function behaves in the direction we choose as a gradient, so we don't get the same guarantee we see in the BTLS while loop."
      ]
    }
  ]
}